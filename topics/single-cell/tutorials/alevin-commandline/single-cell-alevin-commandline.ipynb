{
  "metadata": {
    "kernelspec": {
      "display_name": "Bash",
      "language": "bash",
      "name": "bash"
    },
    "language_info": {
      "codemirror_mode": "shell",
      "file_extension": ".sh",
      "mimetype": "text/x-sh",
      "name": "bash"
    }
  },
  "nbformat": 4,
  "nbformat_minor": 5,
  "cells": [
    {
      "id": "metadata",
      "cell_type": "markdown",
      "source": "<div style=\"border: 2px solid #8A9AD0; margin: 1em 0.2em; padding: 0.5em;\">\n\n# Generating a single cell matrix using Alevin and combining datasets (bash + R)\n\nby [Julia Jakiela](https://training.galaxyproject.org/hall-of-fame/wee-snufkin/), [Wendi Bacon](https://training.galaxyproject.org/hall-of-fame/nomadscientist/)\n\nCC-BY licensed content from the [Galaxy Training Network](https://training.galaxyproject.org/)\n\n**Objectives**\n\n- I have some single cell FASTQ files I want to analyse. Where do I start?\n- How to generate a single cell matrix using command line?\n\n**Objectives**\n\n- Generate a cellxgene matrix for droplet-based single cell sequencing data\n- Interpret quality control (QC) plots to make informed decisions on cell thresholds\n- Find relevant information in GTF files for the particulars of their study, and include this in data matrix metadata\n\n**Time Estimation: 2H**\n</div>\n",
      "metadata": {
        "editable": false,
        "collapsed": false
      }
    },
    {
      "id": "cell-0",
      "source": "<h1 id=\"setting-up-the-environment\">Setting up the environment</h1>\n<p>Alevin is a tool integrated with the <a href=\"https://salmon.readthedocs.io/en/latest/salmon.html\">Salmon software</a>, so first we need to get Salmon. You can install Salmon using conda, but in this tutorial we will show an alternative method - downloading the pre-compiled binaries from the <a href=\"https://github.com/COMBINE-lab/salmon/releases\">releases page</a>. Note that binaries are usually compiled for specific CPU architectures, such as the 64-bit (x86_64) machine release referenced below .</p>\n",
      "cell_type": "markdown",
      "metadata": {
        "editable": false,
        "collapsed": false
      }
    },
    {
      "id": "cell-1",
      "source": [
        "wget -nv https://github.com/COMBINE-lab/salmon/releases/download/v1.10.0/salmon-1.10.0_linux_x86_64.tar.gz"
      ],
      "cell_type": "code",
      "execution_count": null,
      "outputs": [

      ],
      "metadata": {
        "attributes": {
          "classes": [
            "Alevin is a tool integrated with the [Salmon software](https://salmon.readthedocs.io/en/latest/salmon.html), so first we need to get Salmon. You can install Salmon using conda, but in this tutorial we will show an alternative method - downloading the pre-compiled binaries from the [releases page](https://github.com/COMBINE-lab/salmon/releases). Note that binaries are usually compiled for specific CPU architectures, such as the 64-bit (x86_64) machine release referenced below ."
          ],
          "id": ""
        }
      }
    },
    {
      "id": "cell-2",
      "source": "<p>Once you’ve downloaded a specific binary (here we’re using version 1.10.0), just extract it like so:</p>\n",
      "cell_type": "markdown",
      "metadata": {
        "editable": false,
        "collapsed": false
      }
    },
    {
      "id": "cell-3",
      "source": [
        "tar -xvzf salmon-1.10.0_linux_x86_64.tar.gz"
      ],
      "cell_type": "code",
      "execution_count": null,
      "outputs": [

      ],
      "metadata": {
        "attributes": {
          "classes": [
            "Alevin is a tool integrated with the [Salmon software](https://salmon.readthedocs.io/en/latest/salmon.html), so first we need to get Salmon. You can install Salmon using conda, but in this tutorial we will show an alternative method - downloading the pre-compiled binaries from the [releases page](https://github.com/COMBINE-lab/salmon/releases). Note that binaries are usually compiled for specific CPU architectures, such as the 64-bit (x86_64) machine release referenced below ."
          ],
          "id": ""
        }
      }
    },
    {
      "id": "cell-4",
      "source": "<blockquote class=\"details\" style=\"border: 2px solid #ddd; margin: 1em 0.2em\">\n<div class=\"box-title details-title\" id=\"details-conda-installation\"><button class=\"gtn-boxify-button details\" type=\"button\" aria-controls=\"details-conda-installation\" aria-expanded=\"true\"><i class=\"fas fa-info-circle\" aria-hidden=\"true\" ></i> <span>Details: Conda installation</span><span class=\"fold-unfold fa fa-minus-square\"></span></button></div>\n<p>As mentioned, installing salmon using conda is also an option, and you can do it using the following command in the terminal:</p>\n<div class=\"language-plaintext highlighter-rouge\"><div><pre style=\"color: inherit; background: transparent\"><code style=\"color: inherit\">conda install -c bioconda salmon\n</code></pre></div>  </div>\n<p>However, for this tutorial, it would be easier and quicker to use the downloaded pre-compiled binaries, as shown above.</p>\n</blockquote>\n<p>We’re going to use Alevin for demonstration purposes, but we do not endorse one method over another.</p>\n<h1 id=\"get-data\">Get Data</h1>\n<p>We continue working on the same example data - a very small subset of the reads in a mouse dataset of fetal growth restriction {% cite Bacon2018 %} (see the <a href=\"https://www.ebi.ac.uk/gxa/sc/experiments/E-MTAB-6945/results/tsne\">study in Single Cell Expression Atlas</a> and the <a href=\"https://www.ebi.ac.uk/arrayexpress/experiments/E-MTAB-6945/\">project submission</a>). For the purposes of this tutorial, the datasets have been subsampled to only 50k reads (around 1% of the original files). Those are two fastq files - one with transcripts and the another one with cell barcodes. You can download the files by running the code below:</p>\n",
      "cell_type": "markdown",
      "metadata": {
        "editable": false,
        "collapsed": false
      }
    },
    {
      "id": "cell-5",
      "source": [
        "wget -nv https://zenodo.org/records/10116786/files/transcript_701.fastq\n",
        "wget -nv https://zenodo.org/records/10116786/files/barcodes_701.fastq"
      ],
      "cell_type": "code",
      "execution_count": null,
      "outputs": [

      ],
      "metadata": {
        "attributes": {
          "classes": [
            "Alevin is a tool integrated with the [Salmon software](https://salmon.readthedocs.io/en/latest/salmon.html), so first we need to get Salmon. You can install Salmon using conda, but in this tutorial we will show an alternative method - downloading the pre-compiled binaries from the [releases page](https://github.com/COMBINE-lab/salmon/releases). Note that binaries are usually compiled for specific CPU architectures, such as the 64-bit (x86_64) machine release referenced below ."
          ],
          "id": ""
        }
      }
    },
    {
      "id": "cell-6",
      "source": "<blockquote class=\"question\" style=\"border: 2px solid #8A9AD0; margin: 1em 0.2em\">\n<div class=\"box-title question-title\" id=\"question\"><i class=\"far fa-question-circle\" aria-hidden=\"true\" ></i> Question</div>\n<p>How to differentiate between the two files if they are just called ‘Read 1’ and ‘Read 2’?</p>\n<br/><details style=\"border: 2px solid #B8C3EA; margin: 1em 0.2em;padding: 0.5em; cursor: pointer;\"><summary>👁 View solution</summary>\n<div class=\"box-title solution-title\" id=\"solution\"><button class=\"gtn-boxify-button solution\" type=\"button\" aria-controls=\"solution\" aria-expanded=\"true\"><i class=\"far fa-eye\" aria-hidden=\"true\" ></i> <span>Solution</span><span class=\"fold-unfold fa fa-minus-square\"></span></button></div>\n<p>The file which contains the cell barcodes and UMI is significantly shorter (indeed, 20 bp!) compared to the other file containing longer, transcript read. For ease, we will use explicit file names.</p>\n</details>\n</blockquote>\n<p>Additionally, to map your reads, you will need a transcriptome to align against (a FASTA) as well as the gene information for each transcript (a gtf) file. These files are included in the data import step below. You can also download these for your species of interest <a href=\"https://www.ensembl.org/info/data/ftp/index.html\">from Ensembl</a>.</p>\n",
      "cell_type": "markdown",
      "metadata": {
        "editable": false,
        "collapsed": false
      }
    },
    {
      "id": "cell-7",
      "source": [
        "wget -c https://zenodo.org/record/4574153/files/Mus_musculus.GRCm38.100.gtf.gff -O GRCm38_gtf.gff\n",
        "wget -c https://zenodo.org/record/4574153/files/Mus_musculus.GRCm38.cdna.all.fa.fasta -O GRCm38_cdna.fasta"
      ],
      "cell_type": "code",
      "execution_count": null,
      "outputs": [

      ],
      "metadata": {
        "attributes": {
          "classes": [
            "Alevin is a tool integrated with the [Salmon software](https://salmon.readthedocs.io/en/latest/salmon.html), so first we need to get Salmon. You can install Salmon using conda, but in this tutorial we will show an alternative method - downloading the pre-compiled binaries from the [releases page](https://github.com/COMBINE-lab/salmon/releases). Note that binaries are usually compiled for specific CPU architectures, such as the 64-bit (x86_64) machine release referenced below ."
          ],
          "id": ""
        }
      }
    },
    {
      "id": "cell-8",
      "source": "<p>Why do we need FASTA and GTF files?\nTo generate gene-level quantifications based on transcriptome quantification, Alevin and similar tools require a conversion between transcript and gene identifiers. We can derive a transcript-gene conversion from the gene annotations available in genome resources such as Ensembl. The transcripts in such a list need to match the ones we will use later to build a binary transcriptome index. If you were using spike-ins, you’d need to add these to the transcriptome and the transcript-gene mapping.</p>\n<p>We will use the murine reference annotation as retrieved from Ensembl (<em>GRCm38</em> or <em>mm10</em>) in GTF format. This annotation contains gene, exon, transcript and all sorts of other information on the sequences. We will use these to generate the transcript-gene mapping by passing that information to a tool that extracts just the transcript identifiers we need.</p>\n<h1 id=\"generate-a-transcript-to-gene-map-and-filtered-fasta\">Generate a transcript to gene map and filtered FASTA</h1>\n<p>You can have a look at the Terminal tab again. Has the package <code style=\"color: inherit\">atlas-gene-annotation-manipulation</code> been installed yet? If yes, you can execute the code cell below and while it’s running, I’ll explain all the parameters we set here.</p>\n",
      "cell_type": "markdown",
      "metadata": {
        "editable": false,
        "collapsed": false
      }
    },
    {
      "id": "cell-9",
      "source": [
        "gtf2featureAnnotation.R -g GRCm38_gtf.gff -c GRCm38_cdna.fasta -d \"transcript_id\" -t \"transcript\" -f \"transcript_id\" -o map -l \"transcript_id,gene_id\" -r -e filtered_fasta"
      ],
      "cell_type": "code",
      "execution_count": null,
      "outputs": [

      ],
      "metadata": {
        "attributes": {
          "classes": [
            "Alevin is a tool integrated with the [Salmon software](https://salmon.readthedocs.io/en/latest/salmon.html), so first we need to get Salmon. You can install Salmon using conda, but in this tutorial we will show an alternative method - downloading the pre-compiled binaries from the [releases page](https://github.com/COMBINE-lab/salmon/releases). Note that binaries are usually compiled for specific CPU architectures, such as the 64-bit (x86_64) machine release referenced below ."
          ],
          "id": ""
        }
      }
    },
    {
      "id": "cell-10",
      "source": "<p>In essence, <a href=\"https://github.com/ebi-gene-expression-group/atlas-gene-annotation-manipulation\">gtf2featureAnnotation.R script</a> takes a GTF annotation file and creates a table of annotation by feature, optionally filtering a cDNA file supplied at the same time. Therefore the first parameter <code style=\"color: inherit\">-g</code> stands for “gtf-file” and requires a path to a valid GTF file. Then <code style=\"color: inherit\">-c</code> takes a cDNA file for extracting meta info and/or filtering - that’s our FASTA! Where –parse-cdnas (that’s our <code style=\"color: inherit\">-c</code>) is specified, we need to specify, using <code style=\"color: inherit\">-d</code>, which field should be used to compare to identfiers from the FASTA. We set that to “transcript_id” - feel free to inspect the GTF file to explore other attributes. We pass the same value in <code style=\"color: inherit\">-f</code>, meaning first-field, ie. the name of the field to place first in output table. To specify which other fields to retain in the output table, we provide comma-separated list of those fields, and since we’re only interested in transcript to gene map, we put those two names (“transcript_id,gene_id”) into <code style=\"color: inherit\">-l</code>. <code style=\"color: inherit\">-t</code> stands for the feature type to use, and in our case we’re using “transcript”. Guess what <code style=\"color: inherit\">-o</code> is! Indeed, that’s the output annotation table - here we specify the file path of our transcript to gene map. We will also have another output denoted by <code style=\"color: inherit\">-e</code> and that’s the path to a filtered FASTA. Finally, we also put <code style=\"color: inherit\">-r</code> which is there only to suppress header on output. Summarising, output will be a an annotation table, and a FASTA-format cDNAs file with unannotated transcripts removed.</p>\n<p>Why filtered FASTA?\nSometimes it’s important that there are no transcripts in a FASTA-format transcriptome that cannot be matched to a transcript/gene mapping. Salmon, for example,  used to produce errors when this mismatch was present. We can synchronise the cDNA file by removing mismatches as we have done above.</p>\n<h1 id=\"generate-a-transcriptome-index\">Generate a transcriptome index</h1>\n<p>We will use Salmon in mapping-based mode, so first we have to build a Salmon index for our transcriptome. We will run the Salmon indexer as so:</p>\n",
      "cell_type": "markdown",
      "metadata": {
        "editable": false,
        "collapsed": false
      }
    },
    {
      "id": "cell-11",
      "source": [
        "salmon-latest_linux_x86_64/bin/salmon index -t filtered_fasta -i salmon_index -k 31"
      ],
      "cell_type": "code",
      "execution_count": null,
      "outputs": [

      ],
      "metadata": {
        "attributes": {
          "classes": [
            "Alevin is a tool integrated with the [Salmon software](https://salmon.readthedocs.io/en/latest/salmon.html), so first we need to get Salmon. You can install Salmon using conda, but in this tutorial we will show an alternative method - downloading the pre-compiled binaries from the [releases page](https://github.com/COMBINE-lab/salmon/releases). Note that binaries are usually compiled for specific CPU architectures, such as the 64-bit (x86_64) machine release referenced below ."
          ],
          "id": ""
        }
      }
    },
    {
      "id": "cell-12",
      "source": "<p>Where <code style=\"color: inherit\">-t</code> stands for our filtered FASTA file, and <code style=\"color: inherit\">-i</code> is the output of the mapping-based index. To build it, the function is using an auxiliary k-mer hash over k-mers of length 31. While the mapping algorithms will make use of arbitrarily long matches between the query and reference, the k size selected here will act as the minimum acceptable length for a valid match. Thus, a smaller value of k may slightly improve sensitivity. We find that a k of 31 seems to work well for reads of 75bp or longer, but you might consider a smaller k if you plan to deal with shorter reads. Also, a shorter value of k may improve sensitivity even more when using selective alignment (enabled via the –validateMappings flag). So, if you are seeing a smaller mapping rate than you might expect, consider building the index with a slightly smaller k.</p>\n<blockquote class=\"details\" style=\"border: 2px solid #ddd; margin: 1em 0.2em\">\n<div class=\"box-title details-title\" id=\"details-what-is-the-index\"><button class=\"gtn-boxify-button details\" type=\"button\" aria-controls=\"details-what-is-the-index\" aria-expanded=\"true\"><i class=\"fas fa-info-circle\" aria-hidden=\"true\" ></i> <span>Details: What is the index?</span><span class=\"fold-unfold fa fa-minus-square\"></span></button></div>\n<p>To be able to search a transcriptome quickly, Salmon needs to convert the text (FASTA) format sequences into something it can search quickly, called an ‘index’. The index is in a binary rather than human-readable format, but allows fast lookup by Alevin. Because the types of biological and technical sequences we need to include in the index can vary between experiments, and because we often want to use the most up-to-date reference sequences from Ensembl or NCBI, we can end up re-making the indices quite often.</p>\n</blockquote>\n<h1 id=\"use-alevin\">Use Alevin</h1>\n<p>Time to use Alevin now! Alevin works under the same indexing scheme (as Salmon) for the reference, and consumes the set of FASTA/Q files(s) containing the Cellular Barcode(CB) + Unique Molecule identifier (UMI) in one read file and the read sequence in the other. Given just the transcriptome and the raw read files, Alevin generates a cell-by-gene count matrix (in a fraction of the time compared to other tools).</p>\n<blockquote class=\"details\" style=\"border: 2px solid #ddd; margin: 1em 0.2em\">\n<div class=\"box-title details-title\" id=\"details-how-does-alevin-work-in-detail\"><button class=\"gtn-boxify-button details\" type=\"button\" aria-controls=\"details-how-does-alevin-work-in-detail\" aria-expanded=\"true\"><i class=\"fas fa-info-circle\" aria-hidden=\"true\" ></i> <span>Details: How does Alevin work in detail?</span><span class=\"fold-unfold fa fa-minus-square\"></span></button></div>\n<p>Alevin works in two phases. In the first phase it quickly parses the read file containing the CB and UMI information to generate the frequency distribution of all the observed CBs, and creates a lightweight data-structure for fast-look up and correction of the CB. In the second round, Alevin utilizes the read-sequences contained in the files to map the reads to the transcriptome, identify potential PCR/sequencing errors in the UMIs, and performs hybrid de-duplication while accounting for UMI collisions. Finally, a post-abundance estimation CB whitelisting procedure is done and a cell-by-gene count matrix is generated.</p>\n</blockquote>\n<p>Alevin can be run using the following command:</p>\n",
      "cell_type": "markdown",
      "metadata": {
        "editable": false,
        "collapsed": false
      }
    },
    {
      "id": "cell-13",
      "source": [
        "salmon-latest_linux_x86_64/bin/salmon alevin -l ISR -1 barcodes_701.fastq -2 transcript_701.fastq --dropseq  -i salmon_index -p 10 -o alevin_output --tgMap map --freqThreshold 3 --keepCBFraction 1 --dumpFeatures"
      ],
      "cell_type": "code",
      "execution_count": null,
      "outputs": [

      ],
      "metadata": {
        "attributes": {
          "classes": [
            "Alevin is a tool integrated with the [Salmon software](https://salmon.readthedocs.io/en/latest/salmon.html), so first we need to get Salmon. You can install Salmon using conda, but in this tutorial we will show an alternative method - downloading the pre-compiled binaries from the [releases page](https://github.com/COMBINE-lab/salmon/releases). Note that binaries are usually compiled for specific CPU architectures, such as the 64-bit (x86_64) machine release referenced below ."
          ],
          "id": ""
        }
      }
    },
    {
      "id": "cell-14",
      "source": "<p>All the required input parameters are described in <a href=\"https://salmon.readthedocs.io/en/latest/alevin.html\">the documentation</a>, but for the ease of use, they are presented below as well:</p>\n<blockquote class=\"details\" style=\"border: 2px solid #ddd; margin: 1em 0.2em\">\n<div class=\"box-title details-title\" id=\"details-alevin-input-parameters\"><button class=\"gtn-boxify-button details\" type=\"button\" aria-controls=\"details-alevin-input-parameters\" aria-expanded=\"true\"><i class=\"fas fa-info-circle\" aria-hidden=\"true\" ></i> <span>Details: Alevin input parameters</span><span class=\"fold-unfold fa fa-minus-square\"></span></button></div>\n<ul>\n<li>\n<p><code style=\"color: inherit\">-l</code>: library type (same as Salmon), we recommend using ISR for both Drop-seq and 10x-v2 chemistry.</p>\n</li>\n<li>\n<p><code style=\"color: inherit\">-1</code>: CB+UMI file(s), alevin requires the path to the FASTQ file containing CB+UMI raw sequences to be given under this command line flag. Alevin also supports parsing of data from multiple files as long as the order is the same as in -2 flag. That’s our barcodes_701.fastq file.</p>\n</li>\n<li>\n<p><code style=\"color: inherit\">-2</code>: Read-sequence file(s), alevin requires the path to the FASTQ file containing raw read-sequences to be given under this command line flag. Alevin also supports parsing of data from multiple files as long as the order is the same as in -1 flag. That’s our transcript_701.fastq file.</p>\n</li>\n<li>\n<p><code style=\"color: inherit\">--dropseq</code> / <code style=\"color: inherit\">--chromium</code> / <code style=\"color: inherit\">--chromiumV3</code>: the protocol, this flag tells the type of single-cell protocol of the input sequencing-library. This is a study using the Drop-seq chemistry, so we specify that in the flag.</p>\n</li>\n<li>\n<p><code style=\"color: inherit\">-i</code>: index, file containing the salmon index of the reference transcriptome, as generated by salmon index command.</p>\n</li>\n<li>\n<p><code style=\"color: inherit\">-p</code>: number of threads, the number of threads which can be used by alevin to perform the quantification, by default alevin utilizes all the available threads in the system, although we recommend using ~10 threads which in our testing gave the best memory-time trade-off.</p>\n</li>\n<li>\n<p><code style=\"color: inherit\">-o</code>: output, path to folder where the output gene-count matrix (along with other meta-data) would be dumped. We simply call it alevin_output</p>\n</li>\n<li>\n<p><code style=\"color: inherit\">--tgMap</code>: transcript to gene map file, a tsv (tab-separated) file — with no header, containing two columns mapping of each transcript present in the reference to the corresponding gene (the first column is a transcript and the second is the corresponding gene). In our case, that’s map_code generated by using gtf2featureAnnotation.R function.</p>\n</li>\n<li>\n<p><code style=\"color: inherit\">--freqThreshold</code> - minimum frequency for a barcode to be considered. We’ve chosen 3 as this will only remove cell barcodes with a frequency of less than 3, a low bar to pass but useful way of avoiding processing a bunch of almost certainly empty barcodes.</p>\n</li>\n<li>\n<p><code style=\"color: inherit\">--keepCBFraction</code> - fraction of cellular barcodes to keep. We’re using 1 to quantify all!</p>\n</li>\n<li>\n<p><code style=\"color: inherit\">--dumpFeatures</code> - if activated, alevin dumps all the features used by the CB classification and their counts at each cell level. It’s generally used in pair with other command line flags.</p>\n</li>\n</ul>\n</blockquote>\n<p>We have also added some additional parameters (<code class=\"language-plaintext highlighter-rouge\">--freqThreshold</code>, <code style=\"color: inherit\">--keepCBFraction</code>) and their values are derived from the <a href=\"{% link topics/single-cell/tutorials/scrna-case_alevin/tutorial.md %}\">Alevin Galaxy tutorial</a> after QC to stop Alevin from applying its own thresholds. However, if you’re not sure what value to pick, you can simply allow Alevin to make its own calls on what constitutes empty droplets.</p>\n<p>This tool will take a while to run. Alevin produces many file outputs, not all of which we’ll use. You can refer to the <a href=\"https://salmon.readthedocs.io/en/latest/alevin.html\">Alevin documentation</a> if you’re curious what they all are, you can look through all the different files to find information such as the mapping rate, but we’ll just pass the whole output folder directory for downstream analysis.</p>\n<blockquote class=\"question\" style=\"border: 2px solid #8A9AD0; margin: 1em 0.2em\">\n<div class=\"box-title question-title\" id=\"question-1\"><i class=\"far fa-question-circle\" aria-hidden=\"true\" ></i> Question</div>\n<ol>\n<li>Can you find the information what was the mapping rate?</li>\n<li>How many transcripts did Alevin find?</li>\n</ol>\n<br/><details style=\"border: 2px solid #B8C3EA; margin: 1em 0.2em;padding: 0.5em; cursor: pointer;\"><summary>👁 View solution</summary>\n<div class=\"box-title solution-title\" id=\"solution-1\"><button class=\"gtn-boxify-button solution\" type=\"button\" aria-controls=\"solution-1\" aria-expanded=\"true\"><i class=\"far fa-eye\" aria-hidden=\"true\" ></i> <span>Solution</span><span class=\"fold-unfold fa fa-minus-square\"></span></button></div>\n<ol>\n<li>As mentioned above, in <em>alevin_output</em> folder there will be many different files, including the log files. To check the mapping rate, go to <em>alevin_output</em> -&gt; <em>logs</em> and open <em>salmon_quant</em> file. There you will find not only information about mapping rate, but also many more, calculated at salmon indexing step.</li>\n<li>Alevin log can be found in <em>alevin_output</em> -&gt; <em>alevin</em> and the file name is also <em>alevin</em>. You can find many details about the alevin process there, including the number of transcripts found.</li>\n</ol>\n</details>\n</blockquote>\n<blockquote class=\"warning\" style=\"border: 2px solid #de8875; margin: 1em 0.2em\">\n<div class=\"box-title warning-title\" id=\"warning-process-stopping\"><i class=\"fas fa-exclamation-triangle\" aria-hidden=\"true\" ></i> Warning: Process stopping</div>\n<p>The command above will display the log of the process and will say “Analyzed X cells (Y% of all)”. For some reason, running Alevin may sometimes cause problems in Jupyter Notebook and this process will stop and not go to completion. This is the reason why we use hugely subsampled dataset here - bigger ones couldn’t be fully analysed (they worked fine locally though). The dataset used in this tutorial shouldn’t make any issues when you’re using Jupyter notebook through galaxy.eu, however might not work properly on galaxy.org. If you’re accessing Jupyter notebook via galaxy.eu and alevin process stopped, just restart the kernel and that should help.</p>\n</blockquote>\n<!---\ncheck if we can get alevinQC to work - and paste the info from the first Alevin tutorial?\n-->\n<h1 id=\"alevin-output-to-summarizedexperiment\">Alevin output to SummarizedExperiment</h1>\n<p>Let’s change gear a little bit. We’ve done the work in bash, and now we’re switching to R to complete the processing. To do so, you have to change Kernel to R (either click on <code style=\"color: inherit\">Kernel</code> -&gt; <code style=\"color: inherit\">Change Kernel...</code> in the upper left corner of your JupyterLab or click on the displayed current kernel in the upper right corner and change it).</p>\n<figure id=\"figure-1\" style=\"max-width: 90%;\"><img src=\"data:image/jpeg;base64,/9j/4AAQSkZJRgABAQEAeAB4AAD/4QAiRXhpZgAATU0AKgAAAAgAAQESAAMA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\nooooAKKKKACiiigAooooAKKKKACiiigAooooAKKKKACiiigD/9k=\n\"\" alt=\"Figure showing the JupyterLab interface with an arrow pointing to the left corner, showing the option 'Kernel' -&gt; 'Change Kernel...' and another arrow pointing to the right corner, showing the icon of the current kernel. The pop-up window asks which kernel should be chosen instead.\" width=\"1760\" height=\"580\" loading=\"lazy\" /><a target=\"_blank\" href=\"../../images/scrna-pre-processing/switch_kernel.jpg\" rel=\"noopener noreferrer\"><small>Open image in new tab</small></a><br /><br /><figcaption><span class=\"figcaption-prefix\"><strong>Figure 1</strong>:</span> Two ways of switching kernel.</figcaption></figure>\n<p>Now load the library that we have previously installed in terminal:</p>\n",
      "cell_type": "markdown",
      "metadata": {
        "editable": false,
        "collapsed": false
      }
    },
    {
      "id": "cell-15",
      "source": [
        "library(tximeta)"
      ],
      "cell_type": "code",
      "execution_count": null,
      "outputs": [

      ],
      "metadata": {
        "attributes": {
          "classes": [
            "Alevin is a tool integrated with the [Salmon software](https://salmon.readthedocs.io/en/latest/salmon.html), so first we need to get Salmon. You can install Salmon using conda, but in this tutorial we will show an alternative method - downloading the pre-compiled binaries from the [releases page](https://github.com/COMBINE-lab/salmon/releases). Note that binaries are usually compiled for specific CPU architectures, such as the 64-bit (x86_64) machine release referenced below ."
          ],
          "id": ""
        }
      }
    },
    {
      "id": "cell-16",
      "source": "<p>The <a href=\"https://bioconductor.org/packages/devel/bioc/vignettes/tximeta/inst/doc/tximeta.html\">tximeta package</a> created by {% cite Love2020 %} is used for import of transcript-level quantification data into R/Bioconductor and requires that the entire output of alevin is present and unmodified.</p>\n<p>In the <em>alevin_output</em> -&gt; <em>alevin</em> folder you can find the following files:</p>\n<ul>\n<li><em>quants_mat.gz</em>- Compressed count matrix</li>\n<li><em>quants_mat_rows.txt</em>- Row Index (CB-ids) of the matrix.</li>\n<li><em>quants_mat_cols.txt</em> - Column Header (Gene-ids) of the matrix.</li>\n<li><em>quants_tier_mat.gz</em> – Tier categorization of the matrix.</li>\n</ul>\n<p>We will only focus on <em>quants_mat.gz</em> though. First, let’s specify the path to that file:</p>\n",
      "cell_type": "markdown",
      "metadata": {
        "editable": false,
        "collapsed": false
      }
    },
    {
      "id": "cell-17",
      "source": [
        "path <- 'alevin_output/alevin/quants_mat.gz'"
      ],
      "cell_type": "code",
      "execution_count": null,
      "outputs": [

      ],
      "metadata": {
        "attributes": {
          "classes": [
            "Alevin is a tool integrated with the [Salmon software](https://salmon.readthedocs.io/en/latest/salmon.html), so first we need to get Salmon. You can install Salmon using conda, but in this tutorial we will show an alternative method - downloading the pre-compiled binaries from the [releases page](https://github.com/COMBINE-lab/salmon/releases). Note that binaries are usually compiled for specific CPU architectures, such as the 64-bit (x86_64) machine release referenced below ."
          ],
          "id": ""
        }
      }
    },
    {
      "id": "cell-18",
      "source": "<p>We will specify the following arguments when running <em>tximeta</em>:</p>\n<ul>\n<li>‘coldata’ a data.frame with at least two columns:\n<ul>\n<li>files - character, paths of quantification files</li>\n<li>names - character, sample names</li>\n</ul>\n</li>\n<li>‘type’ - what quantifier was used (can be ‘salomon’, ‘alevin’, etc.)</li>\n</ul>\n<p>With that we can create a dataframe and pass it to tximeta to create SummarizedExperiment object.</p>\n",
      "cell_type": "markdown",
      "metadata": {
        "editable": false,
        "collapsed": false
      }
    },
    {
      "id": "cell-19",
      "source": [
        "coldata <- data.frame(files = path, names=\"sample701\")\n",
        "alevin_se <- tximeta(coldata, type = \"alevin\")"
      ],
      "cell_type": "code",
      "execution_count": null,
      "outputs": [

      ],
      "metadata": {
        "attributes": {
          "classes": [
            "Alevin is a tool integrated with the [Salmon software](https://salmon.readthedocs.io/en/latest/salmon.html), so first we need to get Salmon. You can install Salmon using conda, but in this tutorial we will show an alternative method - downloading the pre-compiled binaries from the [releases page](https://github.com/COMBINE-lab/salmon/releases). Note that binaries are usually compiled for specific CPU architectures, such as the 64-bit (x86_64) machine release referenced below ."
          ],
          "id": ""
        }
      }
    },
    {
      "id": "cell-20",
      "source": "<p>Inspect the created object:</p>\n",
      "cell_type": "markdown",
      "metadata": {
        "editable": false,
        "collapsed": false
      }
    },
    {
      "id": "cell-21",
      "source": [
        "alevin_se"
      ],
      "cell_type": "code",
      "execution_count": null,
      "outputs": [

      ],
      "metadata": {
        "attributes": {
          "classes": [
            "Alevin is a tool integrated with the [Salmon software](https://salmon.readthedocs.io/en/latest/salmon.html), so first we need to get Salmon. You can install Salmon using conda, but in this tutorial we will show an alternative method - downloading the pre-compiled binaries from the [releases page](https://github.com/COMBINE-lab/salmon/releases). Note that binaries are usually compiled for specific CPU architectures, such as the 64-bit (x86_64) machine release referenced below ."
          ],
          "id": ""
        }
      }
    },
    {
      "id": "cell-22",
      "source": "<p>As you can see, <em>rowData names</em> and <em>colData names</em> are still empty. Before we add some metadata,  we will first identify barcodes that correspond to non-empty droplets.</p>\n<h1 id=\"identify-barcodes-that-correspond-to-non-empty-droplets\">Identify barcodes that correspond to non-empty droplets</h1>\n<p>Some sub-populations of small cells may not be distinguished from empty droplets based purely on counts by barcode. Some libraries produce multiple ‘knees’ (see the <a href=\"{% link topics/single-cell/tutorials/scrna-case_alevin/tutorial.md %}#basic-qc\">Alevin Galaxy tutorial</a> for multiple sub-populations. The <code style=\"color: inherit\">emptyDrops</code> method ({% cite Lun2019 %}) has become a popular way of dealing with this. <code style=\"color: inherit\">emptyDrops</code> still retains barcodes with very high counts, but also adds in barcodes that can be statistically distinguished from the ambient profiles, even if total counts are similar.</p>\n",
      "cell_type": "markdown",
      "metadata": {
        "editable": false,
        "collapsed": false
      }
    },
    {
      "id": "cell-23",
      "source": [
        "library(DropletUtils)               # load the library and required packages"
      ],
      "cell_type": "code",
      "execution_count": null,
      "outputs": [

      ],
      "metadata": {
        "attributes": {
          "classes": [
            "Alevin is a tool integrated with the [Salmon software](https://salmon.readthedocs.io/en/latest/salmon.html), so first we need to get Salmon. You can install Salmon using conda, but in this tutorial we will show an alternative method - downloading the pre-compiled binaries from the [releases page](https://github.com/COMBINE-lab/salmon/releases). Note that binaries are usually compiled for specific CPU architectures, such as the 64-bit (x86_64) machine release referenced below ."
          ],
          "id": ""
        }
      }
    },
    {
      "id": "cell-24",
      "source": "<p>emptyDrops takes multiple arguments that you can read about in the <a href=\"https://rdrr.io/github/MarioniLab/DropletUtils/man/emptyDrops.html\">documentation</a>. However, in this case, we will only specify the following arguments:</p>\n<blockquote class=\"details\" style=\"border: 2px solid #ddd; margin: 1em 0.2em\">\n<div class=\"box-title details-title\" id=\"details-emptydrops-input-parameters\"><button class=\"gtn-boxify-button details\" type=\"button\" aria-controls=\"details-emptydrops-input-parameters\" aria-expanded=\"true\"><i class=\"fas fa-info-circle\" aria-hidden=\"true\" ></i> <span>Details: emptyDrops input parameters</span><span class=\"fold-unfold fa fa-minus-square\"></span></button></div>\n<ul>\n<li><code style=\"color: inherit\">m</code> -\tA numeric matrix-like object - usually a dgTMatrix or dgCMatrix - containing droplet data prior to any filtering or cell calling. Columns represent barcoded droplets, rows represent genes.</li>\n<li><code style=\"color: inherit\">lower</code> - A numeric scalar specifying the lower bound on the total UMI count, at or below which all barcodes are assumed to correspond to empty droplets.</li>\n<li><code style=\"color: inherit\">niters</code> - An integer scalar specifying the number of iterations to use for the Monte Carlo p-value calculations.</li>\n<li><code style=\"color: inherit\">retain</code> - A numeric scalar specifying the threshold for the total UMI count above which all barcodes are assumed to contain cells.</li>\n</ul>\n</blockquote>\n<p>Let’s then extract the matrix from our <code style=\"color: inherit\">alevin_se</code> object. It’s stored in <em>assays</em> -&gt; <em>counts</em>.</p>\n",
      "cell_type": "markdown",
      "metadata": {
        "editable": false,
        "collapsed": false
      }
    },
    {
      "id": "cell-25",
      "source": [
        "matrix_alevin <- assays(alevin_se)$counts"
      ],
      "cell_type": "code",
      "execution_count": null,
      "outputs": [

      ],
      "metadata": {
        "attributes": {
          "classes": [
            "Alevin is a tool integrated with the [Salmon software](https://salmon.readthedocs.io/en/latest/salmon.html), so first we need to get Salmon. You can install Salmon using conda, but in this tutorial we will show an alternative method - downloading the pre-compiled binaries from the [releases page](https://github.com/COMBINE-lab/salmon/releases). Note that binaries are usually compiled for specific CPU architectures, such as the 64-bit (x86_64) machine release referenced below ."
          ],
          "id": ""
        }
      }
    },
    {
      "id": "cell-26",
      "source": "<p>And now run emptyDrops:</p>\n",
      "cell_type": "markdown",
      "metadata": {
        "editable": false,
        "collapsed": false
      }
    },
    {
      "id": "cell-27",
      "source": [
        "# Identify likely cell-containing droplets\n",
        "out <- emptyDrops(matrix_alevin, lower = 100, niters = 1000, retain = 20)\n",
        "out"
      ],
      "cell_type": "code",
      "execution_count": null,
      "outputs": [

      ],
      "metadata": {
        "attributes": {
          "classes": [
            "Alevin is a tool integrated with the [Salmon software](https://salmon.readthedocs.io/en/latest/salmon.html), so first we need to get Salmon. You can install Salmon using conda, but in this tutorial we will show an alternative method - downloading the pre-compiled binaries from the [releases page](https://github.com/COMBINE-lab/salmon/releases). Note that binaries are usually compiled for specific CPU architectures, such as the 64-bit (x86_64) machine release referenced below ."
          ],
          "id": ""
        }
      }
    },
    {
      "id": "cell-28",
      "source": "<p>We also correct for multiple testing by controlling the false discovery rate (FDR) using the Benjamini-Hochberg (BH) method ({% cite Benjamini1995 %}). Putative cells are defined as those barcodes that have significantly poor fits to the ambient model at a specified FDR threshold. Here, we will use an FDR threshold of 0.01. This means that the expected proportion of empty droplets in the set of retained barcodes is no greater than 1%, which we consider to be acceptably low for downstream analyses.</p>\n",
      "cell_type": "markdown",
      "metadata": {
        "editable": false,
        "collapsed": false
      }
    },
    {
      "id": "cell-29",
      "source": [
        "is.cell <- out$FDR <= 0.01\n",
        "sum(is.cell, na.rm=TRUE)                              # check how many cells left after filtering"
      ],
      "cell_type": "code",
      "execution_count": null,
      "outputs": [

      ],
      "metadata": {
        "attributes": {
          "classes": [
            "Alevin is a tool integrated with the [Salmon software](https://salmon.readthedocs.io/en/latest/salmon.html), so first we need to get Salmon. You can install Salmon using conda, but in this tutorial we will show an alternative method - downloading the pre-compiled binaries from the [releases page](https://github.com/COMBINE-lab/salmon/releases). Note that binaries are usually compiled for specific CPU architectures, such as the 64-bit (x86_64) machine release referenced below ."
          ],
          "id": ""
        }
      }
    },
    {
      "id": "cell-30",
      "source": "<p>We got rid of the background droplets containing no cells, so now we will filter the matrix that we passed on to emptyDrops, so that it corresponds to the remaining cells.</p>\n",
      "cell_type": "markdown",
      "metadata": {
        "editable": false,
        "collapsed": false
      }
    },
    {
      "id": "cell-31",
      "source": [
        "emptied_matrix <- matrix_alevin[,which(is.cell),drop=FALSE]          # filter the matrix"
      ],
      "cell_type": "code",
      "execution_count": null,
      "outputs": [

      ],
      "metadata": {
        "attributes": {
          "classes": [
            "Alevin is a tool integrated with the [Salmon software](https://salmon.readthedocs.io/en/latest/salmon.html), so first we need to get Salmon. You can install Salmon using conda, but in this tutorial we will show an alternative method - downloading the pre-compiled binaries from the [releases page](https://github.com/COMBINE-lab/salmon/releases). Note that binaries are usually compiled for specific CPU architectures, such as the 64-bit (x86_64) machine release referenced below ."
          ],
          "id": ""
        }
      }
    },
    {
      "id": "cell-32",
      "source": "<p>From here, we can move on to adding metadata and we’ll return to <code style=\"color: inherit\">emptied_matrix</code> soon.</p>\n<h1 id=\"adding-cell-metadata\">Adding cell metadata</h1>\n<p>The cells barcodes are stored in <em>colnames</em>. Let’s exctract them into a separate object:</p>\n",
      "cell_type": "markdown",
      "metadata": {
        "editable": false,
        "collapsed": false
      }
    },
    {
      "id": "cell-33",
      "source": [
        "barcode <- colnames(alevin_se)"
      ],
      "cell_type": "code",
      "execution_count": null,
      "outputs": [

      ],
      "metadata": {
        "attributes": {
          "classes": [
            "Alevin is a tool integrated with the [Salmon software](https://salmon.readthedocs.io/en/latest/salmon.html), so first we need to get Salmon. You can install Salmon using conda, but in this tutorial we will show an alternative method - downloading the pre-compiled binaries from the [releases page](https://github.com/COMBINE-lab/salmon/releases). Note that binaries are usually compiled for specific CPU architectures, such as the 64-bit (x86_64) machine release referenced below ."
          ],
          "id": ""
        }
      }
    },
    {
      "id": "cell-34",
      "source": "<p>Now, we can simply add those barcodes into <em>colData names</em> where we will keep the cell metadata. To do this, we will create a column called <code style=\"color: inherit\">barcode</code> in <em>colData</em> and pass the stored values into there.</p>\n",
      "cell_type": "markdown",
      "metadata": {
        "editable": false,
        "collapsed": false
      }
    },
    {
      "id": "cell-35",
      "source": [
        "colData(alevin_se)$barcode <- barcode\n",
        "colData(alevin_se)"
      ],
      "cell_type": "code",
      "execution_count": null,
      "outputs": [

      ],
      "metadata": {
        "attributes": {
          "classes": [
            "Alevin is a tool integrated with the [Salmon software](https://salmon.readthedocs.io/en/latest/salmon.html), so first we need to get Salmon. You can install Salmon using conda, but in this tutorial we will show an alternative method - downloading the pre-compiled binaries from the [releases page](https://github.com/COMBINE-lab/salmon/releases). Note that binaries are usually compiled for specific CPU architectures, such as the 64-bit (x86_64) machine release referenced below ."
          ],
          "id": ""
        }
      }
    },
    {
      "id": "cell-36",
      "source": "<p>That’s only cell barcodes for now! However, after running <em>emptyDrops</em>, we generated lots of cell information that is currently stored in <code style=\"color: inherit\">out</code> object (Total, LogProb, PValue, Limited, FDR). Let’s add those values to cell metadata! Since we already have <em>barcodes</em> in there, we will simply bind the emptyDrops output to the existing dataframe:</p>\n",
      "cell_type": "markdown",
      "metadata": {
        "editable": false,
        "collapsed": false
      }
    },
    {
      "id": "cell-37",
      "source": [
        "colData(alevin_se) <- cbind(colData(alevin_se),out)\n",
        "colData(alevin_se)"
      ],
      "cell_type": "code",
      "execution_count": null,
      "outputs": [

      ],
      "metadata": {
        "attributes": {
          "classes": [
            "Alevin is a tool integrated with the [Salmon software](https://salmon.readthedocs.io/en/latest/salmon.html), so first we need to get Salmon. You can install Salmon using conda, but in this tutorial we will show an alternative method - downloading the pre-compiled binaries from the [releases page](https://github.com/COMBINE-lab/salmon/releases). Note that binaries are usually compiled for specific CPU architectures, such as the 64-bit (x86_64) machine release referenced below ."
          ],
          "id": ""
        }
      }
    },
    {
      "id": "cell-38",
      "source": "<p>As you can see, the new columns were appended successfully and now the dataframe has 6 columns.</p>\n<p>If you have a look at the Experimental Design from that study, you might notice that there is actually more information about the cells. The most important for us would be batch, genotype and sex, summarised in the small table below.</p>\n<table>\n<thead>\n<tr>\n<th>Index</th>\n<th>Batch</th>\n<th>Genotype</th>\n<th>Sex</th>\n</tr>\n</thead>\n<tbody>\n<tr>\n<td>N701</td>\n<td>0</td>\n<td>wildtype</td>\n<td>male</td>\n</tr>\n<tr>\n<td>N702</td>\n<td>1</td>\n<td>knockout</td>\n<td>male</td>\n</tr>\n<tr>\n<td>N703</td>\n<td>2</td>\n<td>knockout</td>\n<td>female</td>\n</tr>\n<tr>\n<td>N704</td>\n<td>3</td>\n<td>wildtype</td>\n<td>male</td>\n</tr>\n<tr>\n<td>N705</td>\n<td>4</td>\n<td>wildtype</td>\n<td>male</td>\n</tr>\n<tr>\n<td>N706</td>\n<td>5</td>\n<td>wildtype</td>\n<td>male</td>\n</tr>\n<tr>\n<td>N707</td>\n<td>6</td>\n<td>knockout</td>\n<td>male</td>\n</tr>\n</tbody>\n</table>\n<p>We are currently analysing sample N701, so let’s add its information from the table.</p>\n<h2 id=\"batch\">Batch</h2>\n<p>We will label batch as an integer - “0” for sample N701, “1” for N702 etc. The way to do it is creating a list with zeros of the length corresponding to the number of cells that we have in our SummarizedExperiment object, like so:</p>\n",
      "cell_type": "markdown",
      "metadata": {
        "editable": false,
        "collapsed": false
      }
    },
    {
      "id": "cell-39",
      "source": [
        "batch <- rep(\"0\", length(colnames(alevin_se)))"
      ],
      "cell_type": "code",
      "execution_count": null,
      "outputs": [

      ],
      "metadata": {
        "attributes": {
          "classes": [
            "Alevin is a tool integrated with the [Salmon software](https://salmon.readthedocs.io/en/latest/salmon.html), so first we need to get Salmon. You can install Salmon using conda, but in this tutorial we will show an alternative method - downloading the pre-compiled binaries from the [releases page](https://github.com/COMBINE-lab/salmon/releases). Note that binaries are usually compiled for specific CPU architectures, such as the 64-bit (x86_64) machine release referenced below ."
          ],
          "id": ""
        }
      }
    },
    {
      "id": "cell-40",
      "source": "<p>And now create a batch slot in the <em>colData names</em> and append the <code style=\"color: inherit\">batch</code> list in the same way as we did with barcodes:</p>\n",
      "cell_type": "markdown",
      "metadata": {
        "editable": false,
        "collapsed": false
      }
    },
    {
      "id": "cell-41",
      "source": [
        "colData(alevin_se)$batch <- batch\n",
        "colData(alevin_se)"
      ],
      "cell_type": "code",
      "execution_count": null,
      "outputs": [

      ],
      "metadata": {
        "attributes": {
          "classes": [
            "Alevin is a tool integrated with the [Salmon software](https://salmon.readthedocs.io/en/latest/salmon.html), so first we need to get Salmon. You can install Salmon using conda, but in this tutorial we will show an alternative method - downloading the pre-compiled binaries from the [releases page](https://github.com/COMBINE-lab/salmon/releases). Note that binaries are usually compiled for specific CPU architectures, such as the 64-bit (x86_64) machine release referenced below ."
          ],
          "id": ""
        }
      }
    },
    {
      "id": "cell-42",
      "source": "<p>A new column appeared, full of zeros - as expected!</p>\n<h2 id=\"genotype\">Genotype</h2>\n<p>It’s all the same for genotype, but instead creating a list with zeros, we’ll create a list with string “wildtype” and append it into genotype slot:</p>\n",
      "cell_type": "markdown",
      "metadata": {
        "editable": false,
        "collapsed": false
      }
    },
    {
      "id": "cell-43",
      "source": [
        "genotype <- rep(\"wildtype\", length(colnames(alevin_se)))\n",
        "colData(alevin_se)$genotype <- genotype"
      ],
      "cell_type": "code",
      "execution_count": null,
      "outputs": [

      ],
      "metadata": {
        "attributes": {
          "classes": [
            "Alevin is a tool integrated with the [Salmon software](https://salmon.readthedocs.io/en/latest/salmon.html), so first we need to get Salmon. You can install Salmon using conda, but in this tutorial we will show an alternative method - downloading the pre-compiled binaries from the [releases page](https://github.com/COMBINE-lab/salmon/releases). Note that binaries are usually compiled for specific CPU architectures, such as the 64-bit (x86_64) machine release referenced below ."
          ],
          "id": ""
        }
      }
    },
    {
      "id": "cell-44",
      "source": "<h2 id=\"sex\">Sex</h2>\n<p>You already know what to do, right? A list with string “male” and then adding it into a new slot!</p>\n",
      "cell_type": "markdown",
      "metadata": {
        "editable": false,
        "collapsed": false
      }
    },
    {
      "id": "cell-45",
      "source": [
        "sex <- rep(\"male\", length(colnames(alevin_se)))\n",
        "colData(alevin_se)$sex <- sex"
      ],
      "cell_type": "code",
      "execution_count": null,
      "outputs": [

      ],
      "metadata": {
        "attributes": {
          "classes": [
            "Alevin is a tool integrated with the [Salmon software](https://salmon.readthedocs.io/en/latest/salmon.html), so first we need to get Salmon. You can install Salmon using conda, but in this tutorial we will show an alternative method - downloading the pre-compiled binaries from the [releases page](https://github.com/COMBINE-lab/salmon/releases). Note that binaries are usually compiled for specific CPU architectures, such as the 64-bit (x86_64) machine release referenced below ."
          ],
          "id": ""
        }
      }
    },
    {
      "id": "cell-46",
      "source": "<p>Check if all looks fine:</p>\n",
      "cell_type": "markdown",
      "metadata": {
        "editable": false,
        "collapsed": false
      }
    },
    {
      "id": "cell-47",
      "source": [
        "colData(alevin_se)"
      ],
      "cell_type": "code",
      "execution_count": null,
      "outputs": [

      ],
      "metadata": {
        "attributes": {
          "classes": [
            "Alevin is a tool integrated with the [Salmon software](https://salmon.readthedocs.io/en/latest/salmon.html), so first we need to get Salmon. You can install Salmon using conda, but in this tutorial we will show an alternative method - downloading the pre-compiled binaries from the [releases page](https://github.com/COMBINE-lab/salmon/releases). Note that binaries are usually compiled for specific CPU architectures, such as the 64-bit (x86_64) machine release referenced below ."
          ],
          "id": ""
        }
      }
    },
    {
      "id": "cell-48",
      "source": "<p>3 new columns appeared with the information that we’ve just added - perfect! You can add any information you need in this way, as long as it’s the same for all the cells from one sample.</p>\n<h1 id=\"adding-gene-metadata\">Adding gene metadata</h1>\n<p>The genes IDs are stored in <em>rownames</em>. Let’s exctract them into a separate object:</p>\n",
      "cell_type": "markdown",
      "metadata": {
        "editable": false,
        "collapsed": false
      }
    },
    {
      "id": "cell-49",
      "source": [
        "gene_ID <- rownames(alevin_se)"
      ],
      "cell_type": "code",
      "execution_count": null,
      "outputs": [

      ],
      "metadata": {
        "attributes": {
          "classes": [
            "Alevin is a tool integrated with the [Salmon software](https://salmon.readthedocs.io/en/latest/salmon.html), so first we need to get Salmon. You can install Salmon using conda, but in this tutorial we will show an alternative method - downloading the pre-compiled binaries from the [releases page](https://github.com/COMBINE-lab/salmon/releases). Note that binaries are usually compiled for specific CPU architectures, such as the 64-bit (x86_64) machine release referenced below ."
          ],
          "id": ""
        }
      }
    },
    {
      "id": "cell-50",
      "source": "<p>Analogically, we will add those genes IDs into <em>rowData names</em> which stores gene metadata. To do this, we will create a column called <code style=\"color: inherit\">gene_ID</code> in <em>rowData</em> and pass the stored values into there.</p>\n",
      "cell_type": "markdown",
      "metadata": {
        "editable": false,
        "collapsed": false
      }
    },
    {
      "id": "cell-51",
      "source": [
        "rowData(alevin_se)$gene_ID <- gene_ID"
      ],
      "cell_type": "code",
      "execution_count": null,
      "outputs": [

      ],
      "metadata": {
        "attributes": {
          "classes": [
            "Alevin is a tool integrated with the [Salmon software](https://salmon.readthedocs.io/en/latest/salmon.html), so first we need to get Salmon. You can install Salmon using conda, but in this tutorial we will show an alternative method - downloading the pre-compiled binaries from the [releases page](https://github.com/COMBINE-lab/salmon/releases). Note that binaries are usually compiled for specific CPU architectures, such as the 64-bit (x86_64) machine release referenced below ."
          ],
          "id": ""
        }
      }
    },
    {
      "id": "cell-52",
      "source": "<h2 id=\"adding-genes-symbols-based-on-their-ids\">Adding genes symbols based on their IDs</h2>\n<p>Since gene symbols are much more informative than only gene IDs, we will add them to our metadata. We will base this annotation on Ensembl - the genome database – with the use of the library BioMart. We will use the archive Genome assembly GRCm38 to get the gene names. Please note that the updated version (GRCm39) is available, but some of the gene IDs are not in that EnsEMBL database. The code below is written in a way that it will work for the updated dataset too, but will produce ‘NA’ where the corresponding gene name couldn’t be found.</p>\n",
      "cell_type": "markdown",
      "metadata": {
        "editable": false,
        "collapsed": false
      }
    },
    {
      "id": "cell-53",
      "source": [
        "# get relevant gene names\n",
        "library(\"biomaRt\")                                      # load the BioMart library\n",
        "ensembl.ids <- gene_ID\n",
        "mart <- useEnsembl(biomart = \"ENSEMBL_MART_ENSEMBL\")    # connect to a specified BioMart database and dataset hosted by Ensembl\n",
        "ensembl_m = useMart(\"ensembl\", dataset=\"mmusculus_gene_ensembl\", version=100)\n",
        "\n",
        "# The line above connects to a specified BioMart database and dataset within this database.\n",
        "# In our case we choose the mus musculus database and to get the desired Genome assembly GRCm38,\n",
        "# we specify the host with this archive. If you want to use the most recent version of the dataset, just run:\n",
        "# ensembl_m = useMart(\"ensembl\", dataset=\"mmusculus_gene_ensembl\")"
      ],
      "cell_type": "code",
      "execution_count": null,
      "outputs": [

      ],
      "metadata": {
        "attributes": {
          "classes": [
            "Alevin is a tool integrated with the [Salmon software](https://salmon.readthedocs.io/en/latest/salmon.html), so first we need to get Salmon. You can install Salmon using conda, but in this tutorial we will show an alternative method - downloading the pre-compiled binaries from the [releases page](https://github.com/COMBINE-lab/salmon/releases). Note that binaries are usually compiled for specific CPU architectures, such as the 64-bit (x86_64) machine release referenced below ."
          ],
          "id": ""
        }
      }
    },
    {
      "id": "cell-54",
      "source": "<blockquote class=\"warning\" style=\"border: 2px solid #de8875; margin: 1em 0.2em\">\n<div class=\"box-title warning-title\" id=\"warning-ensembl-connection-problems\"><i class=\"fas fa-exclamation-triangle\" aria-hidden=\"true\" ></i> Warning: Ensembl connection problems</div>\n<p>Sometimes you may encounter some connection issues with Ensembl. To improve performance Ensembl provides several mirrors of their site distributed around the globe. When you use the default settings for useEnsembl() your queries will be directed to your closest mirror geographically. In theory this should give you the best performance, however this is not always the case in practice. For example, if the nearest mirror is experiencing many queries from other users it may perform poorly for you. In such cases, the other mirrors should be chosen automatically.</p>\n</blockquote>\n",
      "cell_type": "markdown",
      "metadata": {
        "editable": false,
        "collapsed": false
      }
    },
    {
      "id": "cell-55",
      "source": [
        "genes <- getBM(attributes=c('ensembl_gene_id','external_gene_name'),\n",
        "               filters = 'ensembl_gene_id',\n",
        "               values = ensembl.ids,\n",
        "               mart = ensembl_m)\n",
        "\n",
        "# The line above retrieves the specified attributes from the connected BioMart database;\n",
        "# 'ensembl_gene_id' are genes IDs,\n",
        "# 'external_gene_name' are the genes symbols that we want to get for our values stored in ‘ensembl.ids’."
      ],
      "cell_type": "code",
      "execution_count": null,
      "outputs": [

      ],
      "metadata": {
        "attributes": {
          "classes": [
            "Alevin is a tool integrated with the [Salmon software](https://salmon.readthedocs.io/en/latest/salmon.html), so first we need to get Salmon. You can install Salmon using conda, but in this tutorial we will show an alternative method - downloading the pre-compiled binaries from the [releases page](https://github.com/COMBINE-lab/salmon/releases). Note that binaries are usually compiled for specific CPU architectures, such as the 64-bit (x86_64) machine release referenced below ."
          ],
          "id": ""
        }
      }
    },
    {
      "id": "cell-56",
      "source": "\n",
      "cell_type": "markdown",
      "metadata": {
        "editable": false,
        "collapsed": false
      }
    },
    {
      "id": "cell-57",
      "source": [
        "# see the resulting data\n",
        "head(genes)"
      ],
      "cell_type": "code",
      "execution_count": null,
      "outputs": [

      ],
      "metadata": {
        "attributes": {
          "classes": [
            "Alevin is a tool integrated with the [Salmon software](https://salmon.readthedocs.io/en/latest/salmon.html), so first we need to get Salmon. You can install Salmon using conda, but in this tutorial we will show an alternative method - downloading the pre-compiled binaries from the [releases page](https://github.com/COMBINE-lab/salmon/releases). Note that binaries are usually compiled for specific CPU architectures, such as the 64-bit (x86_64) machine release referenced below ."
          ],
          "id": ""
        }
      }
    },
    {
      "id": "cell-58",
      "source": "\n",
      "cell_type": "markdown",
      "metadata": {
        "editable": false,
        "collapsed": false
      }
    },
    {
      "id": "cell-59",
      "source": [
        "# replace IDs for gene names\n",
        "gene_names <- ensembl.ids\n",
        "count = 1\n",
        "for (geneID in gene_names)\n",
        "{\n",
        " index <- which(genes==geneID)    # finds an index of geneID in the genes object created by getBM()\n",
        " if (length(index)==0)            # condition in case if there is no corresponding gene name in the chosen dataset\n",
        "  {\n",
        "    gene_names[count] <- 'NA'\n",
        "  }\n",
        "  else\n",
        "  {\n",
        "    gene_names[count] <- genes$external_gene_name[index] \t# replaces gene ID by the corresponding gene name based on the found geneID’s index\n",
        "  }\n",
        " count = count + 1                # increased count so that every element in gene_names is replaced\n",
        "}"
      ],
      "cell_type": "code",
      "execution_count": null,
      "outputs": [

      ],
      "metadata": {
        "attributes": {
          "classes": [
            "Alevin is a tool integrated with the [Salmon software](https://salmon.readthedocs.io/en/latest/salmon.html), so first we need to get Salmon. You can install Salmon using conda, but in this tutorial we will show an alternative method - downloading the pre-compiled binaries from the [releases page](https://github.com/COMBINE-lab/salmon/releases). Note that binaries are usually compiled for specific CPU architectures, such as the 64-bit (x86_64) machine release referenced below ."
          ],
          "id": ""
        }
      }
    },
    {
      "id": "cell-60",
      "source": "\n",
      "cell_type": "markdown",
      "metadata": {
        "editable": false,
        "collapsed": false
      }
    },
    {
      "id": "cell-61",
      "source": [
        "# add the gene names into rowData in a new column gene_name\n",
        "rowData(alevin_se)$gene_name <- gene_names"
      ],
      "cell_type": "code",
      "execution_count": null,
      "outputs": [

      ],
      "metadata": {
        "attributes": {
          "classes": [
            "Alevin is a tool integrated with the [Salmon software](https://salmon.readthedocs.io/en/latest/salmon.html), so first we need to get Salmon. You can install Salmon using conda, but in this tutorial we will show an alternative method - downloading the pre-compiled binaries from the [releases page](https://github.com/COMBINE-lab/salmon/releases). Note that binaries are usually compiled for specific CPU architectures, such as the 64-bit (x86_64) machine release referenced below ."
          ],
          "id": ""
        }
      }
    },
    {
      "id": "cell-62",
      "source": "\n",
      "cell_type": "markdown",
      "metadata": {
        "editable": false,
        "collapsed": false
      }
    },
    {
      "id": "cell-63",
      "source": [
        "# see the changes\n",
        "rowData(alevin_se)"
      ],
      "cell_type": "code",
      "execution_count": null,
      "outputs": [

      ],
      "metadata": {
        "attributes": {
          "classes": [
            "Alevin is a tool integrated with the [Salmon software](https://salmon.readthedocs.io/en/latest/salmon.html), so first we need to get Salmon. You can install Salmon using conda, but in this tutorial we will show an alternative method - downloading the pre-compiled binaries from the [releases page](https://github.com/COMBINE-lab/salmon/releases). Note that binaries are usually compiled for specific CPU architectures, such as the 64-bit (x86_64) machine release referenced below ."
          ],
          "id": ""
        }
      }
    },
    {
      "id": "cell-64",
      "source": "<p>If you are working on your own data and it’s not mouse data, you can check available datasets for other species and just use relevant dataset in <code style=\"color: inherit\">useMart()</code> function.</p>\n",
      "cell_type": "markdown",
      "metadata": {
        "editable": false,
        "collapsed": false
      }
    },
    {
      "id": "cell-65",
      "source": [
        "listDatasets(mart)                # available datasets"
      ],
      "cell_type": "code",
      "execution_count": null,
      "outputs": [

      ],
      "metadata": {
        "attributes": {
          "classes": [
            "Alevin is a tool integrated with the [Salmon software](https://salmon.readthedocs.io/en/latest/salmon.html), so first we need to get Salmon. You can install Salmon using conda, but in this tutorial we will show an alternative method - downloading the pre-compiled binaries from the [releases page](https://github.com/COMBINE-lab/salmon/releases). Note that binaries are usually compiled for specific CPU architectures, such as the 64-bit (x86_64) machine release referenced below ."
          ],
          "id": ""
        }
      }
    },
    {
      "id": "cell-66",
      "source": "<h2 id=\"flag-mitochondrial-genes\">Flag mitochondrial genes</h2>\n<p>We can also flag mitochondrial genes. Usually those are the genes whose name starts with ‘mt-‘ or ‘MT-‘. Therefore, we will store those characters in <code style=\"color: inherit\">mito_genes_names</code> and then use <em>grepl()</em> to find those genes stored in <em>gene_name</em> slot.</p>\n",
      "cell_type": "markdown",
      "metadata": {
        "editable": false,
        "collapsed": false
      }
    },
    {
      "id": "cell-67",
      "source": [
        "mito_genes_names <- '^mt-|^MT-'                                    # how mitochondrial gene names can start\n",
        "mito <- grepl(mito_genes_names, rowData(alevin_se)$gene_name)      # find mito genes\n",
        "mito                                                               # see the resulting boolean list"
      ],
      "cell_type": "code",
      "execution_count": null,
      "outputs": [

      ],
      "metadata": {
        "attributes": {
          "classes": [
            "Alevin is a tool integrated with the [Salmon software](https://salmon.readthedocs.io/en/latest/salmon.html), so first we need to get Salmon. You can install Salmon using conda, but in this tutorial we will show an alternative method - downloading the pre-compiled binaries from the [releases page](https://github.com/COMBINE-lab/salmon/releases). Note that binaries are usually compiled for specific CPU architectures, such as the 64-bit (x86_64) machine release referenced below ."
          ],
          "id": ""
        }
      }
    },
    {
      "id": "cell-68",
      "source": "<p>Now we can add another slot in <em>rowData</em> and call it <em>mito</em> that will keep boolean values (true/false) to indicate which genes are mitochondrial.</p>\n",
      "cell_type": "markdown",
      "metadata": {
        "editable": false,
        "collapsed": false
      }
    },
    {
      "id": "cell-69",
      "source": [
        "rowData(alevin_se)$mito <- mito\n",
        "rowData(alevin_se)"
      ],
      "cell_type": "code",
      "execution_count": null,
      "outputs": [

      ],
      "metadata": {
        "attributes": {
          "classes": [
            "Alevin is a tool integrated with the [Salmon software](https://salmon.readthedocs.io/en/latest/salmon.html), so first we need to get Salmon. You can install Salmon using conda, but in this tutorial we will show an alternative method - downloading the pre-compiled binaries from the [releases page](https://github.com/COMBINE-lab/salmon/releases). Note that binaries are usually compiled for specific CPU architectures, such as the 64-bit (x86_64) machine release referenced below ."
          ],
          "id": ""
        }
      }
    },
    {
      "id": "cell-70",
      "source": "<h1 id=\"subsetting-the-object\">Subsetting the object</h1>\n<p>Let’s go back to the <code style=\"color: inherit\">emptied_matrix</code> object. Do you remember how many cells were left after filtering? We can check that by looking at the matrix’ dimensions:</p>\n",
      "cell_type": "markdown",
      "metadata": {
        "editable": false,
        "collapsed": false
      }
    },
    {
      "id": "cell-71",
      "source": [
        "dim(matrix_alevin)                                                  # check the dimension of the unfiltered matrix\n",
        "dim(emptied_matrix)                                                 # check the dimension of the filtered matrix"
      ],
      "cell_type": "code",
      "execution_count": null,
      "outputs": [

      ],
      "metadata": {
        "attributes": {
          "classes": [
            "Alevin is a tool integrated with the [Salmon software](https://salmon.readthedocs.io/en/latest/salmon.html), so first we need to get Salmon. You can install Salmon using conda, but in this tutorial we will show an alternative method - downloading the pre-compiled binaries from the [releases page](https://github.com/COMBINE-lab/salmon/releases). Note that binaries are usually compiled for specific CPU architectures, such as the 64-bit (x86_64) machine release referenced below ."
          ],
          "id": ""
        }
      }
    },
    {
      "id": "cell-72",
      "source": "<p>We’ve gone from 3608 to 35 cells. We’ve filtered the matrix, but not our SummarizedExperiment. We can subset <code style=\"color: inherit\">alevin_se</code> based on the cells that were left after filtering. We will store them in a separate list, as we did with the barcodes:</p>\n",
      "cell_type": "markdown",
      "metadata": {
        "editable": false,
        "collapsed": false
      }
    },
    {
      "id": "cell-73",
      "source": [
        "retained_cells <- colnames(emptied_matrix)\n",
        "retained_cells"
      ],
      "cell_type": "code",
      "execution_count": null,
      "outputs": [

      ],
      "metadata": {
        "attributes": {
          "classes": [
            "Alevin is a tool integrated with the [Salmon software](https://salmon.readthedocs.io/en/latest/salmon.html), so first we need to get Salmon. You can install Salmon using conda, but in this tutorial we will show an alternative method - downloading the pre-compiled binaries from the [releases page](https://github.com/COMBINE-lab/salmon/releases). Note that binaries are usually compiled for specific CPU architectures, such as the 64-bit (x86_64) machine release referenced below ."
          ],
          "id": ""
        }
      }
    },
    {
      "id": "cell-74",
      "source": "<p>And now we can subset our SummarizedExperiment based on the barcodes that are in the <code style=\"color: inherit\">retained_cells</code> list:</p>\n",
      "cell_type": "markdown",
      "metadata": {
        "editable": false,
        "collapsed": false
      }
    },
    {
      "id": "cell-75",
      "source": [
        "alevin_subset <- alevin_se[, colData(alevin_se)$barcode %in% retained_cells]\n",
        "alevin_701 <- alevin_subset\n",
        "alevin_701"
      ],
      "cell_type": "code",
      "execution_count": null,
      "outputs": [

      ],
      "metadata": {
        "attributes": {
          "classes": [
            "Alevin is a tool integrated with the [Salmon software](https://salmon.readthedocs.io/en/latest/salmon.html), so first we need to get Salmon. You can install Salmon using conda, but in this tutorial we will show an alternative method - downloading the pre-compiled binaries from the [releases page](https://github.com/COMBINE-lab/salmon/releases). Note that binaries are usually compiled for specific CPU architectures, such as the 64-bit (x86_64) machine release referenced below ."
          ],
          "id": ""
        }
      }
    },
    {
      "id": "cell-76",
      "source": "<p>And that’s our subset, ready for downstream analysis!</p>\n<h1 id=\"more-datasets\">More datasets</h1>\n<p>We’ve done the analysis for one sample. But there are 7 samples in this experiment and it would be very handy to have all the information in one place. Therefore, you would need to repeat all the steps for the subsequent samples (that’s when you’ll appreciate wrapped tools and automation in Galaxy workflows!). To make your life easier, we will show you how to combine the datasets on smaller scale. Also, to save you some time, we’ve already run Alevin on sample 702 (also subsampled to 50k reads). Let’s quickly repeat the steps we performed in R to complete the analysis of sample 702 in the same way as we did with 701.</p>\n<p>But first, we have to save the results of our hard work on sample 701!</p>\n<h2 id=\"saving-sample-701-data\">Saving sample 701 data</h2>\n<p>Saving files is quite straightforward. Just specify which object you want to save and how you want the file to be named. Don’t forget the extension!</p>\n",
      "cell_type": "markdown",
      "metadata": {
        "editable": false,
        "collapsed": false
      }
    },
    {
      "id": "cell-77",
      "source": [
        "save(alevin_701, file = \"alevin_701.rdata\")"
      ],
      "cell_type": "code",
      "execution_count": null,
      "outputs": [

      ],
      "metadata": {
        "attributes": {
          "classes": [
            "Alevin is a tool integrated with the [Salmon software](https://salmon.readthedocs.io/en/latest/salmon.html), so first we need to get Salmon. You can install Salmon using conda, but in this tutorial we will show an alternative method - downloading the pre-compiled binaries from the [releases page](https://github.com/COMBINE-lab/salmon/releases). Note that binaries are usually compiled for specific CPU architectures, such as the 64-bit (x86_64) machine release referenced below ."
          ],
          "id": ""
        }
      }
    },
    {
      "id": "cell-78",
      "source": "<p>You will see the new file in the panel on the left.</p>\n<h2 id=\"analysis-of-sample-702\">Analysis of sample 702</h2>\n<p>Normally, at this point you would switch kernel to bash to run alevin, and then back to R to complete the analysis of another sample. Here, we are providing you with the alevin output for the next sample, but to give you some practise in switching kernels and saving data, we will use bash to unzip the folder with that output data.</p>\n<blockquote class=\"warning\" style=\"border: 2px solid #de8875; margin: 1em 0.2em\">\n<div class=\"box-title warning-title\" id=\"warning-switching-kernels-amp-losing-variables\"><i class=\"fas fa-exclamation-triangle\" aria-hidden=\"true\" ></i> Warning: Switching kernels &amp; losing variables</div>\n<p>Be aware that every time when you switch kernel, you will lose variables you store in the objects that you’ve created, unless you save them. Therefore, if you want to switch from R to bash, make sure you save your R objects! You can then load them anytime.</p>\n</blockquote>\n<p>Let’s <strong>switch the kernel back to bash</strong> and run the following code to unzip the alevin output for sample 702:</p>\n",
      "cell_type": "markdown",
      "metadata": {
        "editable": false,
        "collapsed": false
      }
    },
    {
      "id": "cell-79",
      "source": [
        "# we're in bash again!\n",
        "wget https://zenodo.org/records/10116786/files/alevin_output_702.zip"
      ],
      "cell_type": "code",
      "execution_count": null,
      "outputs": [

      ],
      "metadata": {
        "attributes": {
          "classes": [
            "Alevin is a tool integrated with the [Salmon software](https://salmon.readthedocs.io/en/latest/salmon.html), so first we need to get Salmon. You can install Salmon using conda, but in this tutorial we will show an alternative method - downloading the pre-compiled binaries from the [releases page](https://github.com/COMBINE-lab/salmon/releases). Note that binaries are usually compiled for specific CPU architectures, such as the 64-bit (x86_64) machine release referenced below ."
          ],
          "id": ""
        }
      }
    },
    {
      "id": "cell-80",
      "source": "\n",
      "cell_type": "markdown",
      "metadata": {
        "editable": false,
        "collapsed": false
      }
    },
    {
      "id": "cell-81",
      "source": [
        "unzip alevin_output_702.zip"
      ],
      "cell_type": "code",
      "execution_count": null,
      "outputs": [

      ],
      "metadata": {
        "attributes": {
          "classes": [
            "Alevin is a tool integrated with the [Salmon software](https://salmon.readthedocs.io/en/latest/salmon.html), so first we need to get Salmon. You can install Salmon using conda, but in this tutorial we will show an alternative method - downloading the pre-compiled binaries from the [releases page](https://github.com/COMBINE-lab/salmon/releases). Note that binaries are usually compiled for specific CPU architectures, such as the 64-bit (x86_64) machine release referenced below ."
          ],
          "id": ""
        }
      }
    },
    {
      "id": "cell-82",
      "source": "<p>The files are there! Now <strong>back to R - switch kernel again</strong>.</p>\n<p>Above we described all the steps done in R and explained what each bit of code does. Below all those steps are in one block of code, so read carefully and make sure you understand everything!</p>\n",
      "cell_type": "markdown",
      "metadata": {
        "editable": false,
        "collapsed": false
      }
    },
    {
      "id": "cell-83",
      "source": [
        "# we're in R now!\n",
        "\n",
        "## load libraries again ##\n",
        "library(tximeta)\n",
        "library(DropletUtils)\n",
        "library(biomaRt)\n",
        "\n",
        "## running tximeta ##\n",
        "path2 <- 'alevin_output_702/alevin/quants_mat.gz'                                                    # path to alevin output for N702\n",
        "alevin2 <- tximeta(coldata = data.frame(files = path2, names = \"sample702\"), type = \"alevin\")        # create SummarizedExperiment from Alevin output\n",
        "\n",
        "## running emptyDrops ##\n",
        "matrix_alevin2 <- assays(alevin2)$counts                                                             # extract matrix from SummarizedExperiment\n",
        "out2 <- emptyDrops(matrix_alevin2, lower = 100, niters = 1000, retain = 20)                          # apply emptyDrops\n",
        "is.cell2 <- out2$FDR <= 0.01                                                                         # apply FDR threshold\n",
        "emptied_matrix2 <- matrix_alevin2[,which(is.cell2),drop=FALSE]                                       # subset the matrix to the cell-containing droplets\n",
        "\n",
        "## adding cell metadata ##\n",
        "barcode2 <- colnames(alevin2)\n",
        "colData(alevin2)$barcode <- barcode2                                             # add barcodes\n",
        "\n",
        "colData(alevin2) <- cbind(colData(alevin2),out2)                                 # add emptyDrops info\n",
        "\n",
        "batch2 <- rep(\"1\", length(colnames(alevin2)))\n",
        "colData(alevin2)$batch <- batch2                                                # add batch info\n",
        "\n",
        "genotype2 <- rep(\"wildtype\", length(colnames(alevin2)))\n",
        "colData(alevin2)$genotype <- genotype2                                          # add genotype info\n",
        "\n",
        "sex2 <- rep(\"male\", length(colnames(alevin2)))\n",
        "colData(alevin2)$sex <- sex2                                                    # add sex info\n",
        "\n",
        "## adding gene metadata ##\n",
        "gene_ID2 <- rownames(alevin2)\n",
        "rowData(alevin2)$gene_ID <- gene_ID2\n",
        "\n",
        "# get relevant gene names\n",
        "ensembl.ids2 <- gene_ID2\n",
        "mart <- useEnsembl(biomart = \"ENSEMBL_MART_ENSEMBL\")    # connect to a specified BioMart database and dataset hosted by Ensembl\n",
        "ensembl_m2 = useMart(\"ensembl\", dataset=\"mmusculus_gene_ensembl\", version=100)\n",
        "\n",
        "genes2 <- getBM(attributes=c('ensembl_gene_id','external_gene_name'),\n",
        "               filters = 'ensembl_gene_id',\n",
        "               values = ensembl.ids2,\n",
        "               mart = ensembl_m2)\n",
        "\n",
        "# replace IDs for gene names\n",
        "gene_names2 <- ensembl.ids2\n",
        "count = 1\n",
        "for (geneID in gene_names2)\n",
        "{\n",
        " index <- which(genes2==geneID)    # finds an index of geneID in the genes object created by getBM()\n",
        " if (length(index)==0)            # condition in case if there is no corresponding gene name in the chosen dataset\n",
        "  {\n",
        "    gene_names2[count] <- 'NA'\n",
        "  }\n",
        "  else\n",
        "  {\n",
        "    gene_names2[count] <- genes2$external_gene_name[index] \t# replaces gene ID by the corresponding gene name based on the found geneID’s index\n",
        "  }\n",
        " count = count + 1                # increased count so that every element in gene_names is replaced\n",
        "}\n",
        "\n",
        "rowData(alevin2)$gene_name <- gene_names2                              # add gene names to gene metadata\n",
        "\n",
        "mito_genes_names <- '^mt-|^MT-'                                        # how mitochondrial gene names can start\n",
        "mito2 <- grepl(mito_genes_names, rowData(alevin2)$gene_name)           # find mito genes\n",
        "rowData(alevin2)$mito <- mito2                                         # add mitochondrial information to gene metadata\n",
        "\n",
        "## create a subset of filtered object ##\n",
        "retained_cells2 <- colnames(emptied_matrix2)\n",
        "alevin_subset2 <- alevin2[, colData(alevin2)$barcode %in% retained_cells2]\n",
        "\n",
        "alevin_702 <- alevin_subset2\n",
        "alevin_702"
      ],
      "cell_type": "code",
      "execution_count": null,
      "outputs": [

      ],
      "metadata": {
        "attributes": {
          "classes": [
            "Alevin is a tool integrated with the [Salmon software](https://salmon.readthedocs.io/en/latest/salmon.html), so first we need to get Salmon. You can install Salmon using conda, but in this tutorial we will show an alternative method - downloading the pre-compiled binaries from the [releases page](https://github.com/COMBINE-lab/salmon/releases). Note that binaries are usually compiled for specific CPU architectures, such as the 64-bit (x86_64) machine release referenced below ."
          ],
          "id": ""
        }
      }
    },
    {
      "id": "cell-84",
      "source": "<p>Alright, another sample pre-processed!</p>\n<h1 id=\"combining-datasets\">Combining datasets</h1>\n<p>Pre-processed sample 702 is there, but we still need to load sample 701 that we saved before switching kernels. It’s equally easy as saving the object:</p>\n",
      "cell_type": "markdown",
      "metadata": {
        "editable": false,
        "collapsed": false
      }
    },
    {
      "id": "cell-85",
      "source": [
        "load(\"alevin_701.rdata\")"
      ],
      "cell_type": "code",
      "execution_count": null,
      "outputs": [

      ],
      "metadata": {
        "attributes": {
          "classes": [
            "Alevin is a tool integrated with the [Salmon software](https://salmon.readthedocs.io/en/latest/salmon.html), so first we need to get Salmon. You can install Salmon using conda, but in this tutorial we will show an alternative method - downloading the pre-compiled binaries from the [releases page](https://github.com/COMBINE-lab/salmon/releases). Note that binaries are usually compiled for specific CPU architectures, such as the 64-bit (x86_64) machine release referenced below ."
          ],
          "id": ""
        }
      }
    },
    {
      "id": "cell-86",
      "source": "<p>Check if it was loaded ok:</p>\n",
      "cell_type": "markdown",
      "metadata": {
        "editable": false,
        "collapsed": false
      }
    },
    {
      "id": "cell-87",
      "source": [
        "alevin_701"
      ],
      "cell_type": "code",
      "execution_count": null,
      "outputs": [

      ],
      "metadata": {
        "attributes": {
          "classes": [
            "Alevin is a tool integrated with the [Salmon software](https://salmon.readthedocs.io/en/latest/salmon.html), so first we need to get Salmon. You can install Salmon using conda, but in this tutorial we will show an alternative method - downloading the pre-compiled binaries from the [releases page](https://github.com/COMBINE-lab/salmon/releases). Note that binaries are usually compiled for specific CPU architectures, such as the 64-bit (x86_64) machine release referenced below ."
          ],
          "id": ""
        }
      }
    },
    {
      "id": "cell-88",
      "source": "<p>Now we can combine those two objects into one using one simple command:</p>\n",
      "cell_type": "markdown",
      "metadata": {
        "editable": false,
        "collapsed": false
      }
    },
    {
      "id": "cell-89",
      "source": [
        "alevin_combined <- cbind(alevin_701, alevin_702)\n",
        "alevin_combined"
      ],
      "cell_type": "code",
      "execution_count": null,
      "outputs": [

      ],
      "metadata": {
        "attributes": {
          "classes": [
            "Alevin is a tool integrated with the [Salmon software](https://salmon.readthedocs.io/en/latest/salmon.html), so first we need to get Salmon. You can install Salmon using conda, but in this tutorial we will show an alternative method - downloading the pre-compiled binaries from the [releases page](https://github.com/COMBINE-lab/salmon/releases). Note that binaries are usually compiled for specific CPU architectures, such as the 64-bit (x86_64) machine release referenced below ."
          ],
          "id": ""
        }
      }
    },
    {
      "id": "cell-90",
      "source": "<p>If you have more samples, just append them in the same way. We won’t process another sample here, but pretending that we have third sample, we would combine it like this:</p>\n",
      "cell_type": "markdown",
      "metadata": {
        "editable": false,
        "collapsed": false
      }
    },
    {
      "id": "cell-91",
      "source": [
        "alevin_subset3 <- alevin_702                        # copy dataset for demonstration purposes\n",
        "alevin_combined_demo <- cbind(alevin_combined, alevin_subset3)\n",
        "alevin_combined_demo"
      ],
      "cell_type": "code",
      "execution_count": null,
      "outputs": [

      ],
      "metadata": {
        "attributes": {
          "classes": [
            "Alevin is a tool integrated with the [Salmon software](https://salmon.readthedocs.io/en/latest/salmon.html), so first we need to get Salmon. You can install Salmon using conda, but in this tutorial we will show an alternative method - downloading the pre-compiled binaries from the [releases page](https://github.com/COMBINE-lab/salmon/releases). Note that binaries are usually compiled for specific CPU architectures, such as the 64-bit (x86_64) machine release referenced below ."
          ],
          "id": ""
        }
      }
    },
    {
      "id": "cell-92",
      "source": "<p>You get the point, right? It’s important though that the rowData names and colData names are the same in each sample.</p>\n<h1 id=\"saving-and-exporting-the-files\">Saving and exporting the files</h1>\n<p>It is generally more common to use SingleCellExperiment format rather than SummarizedExperiment. The conversion is quick and easy, and goes like this:</p>\n",
      "cell_type": "markdown",
      "metadata": {
        "editable": false,
        "collapsed": false
      }
    },
    {
      "id": "cell-93",
      "source": [
        "library(SingleCellExperiment)                                 # might need to load this library\n",
        "alevin_sce <- as(alevin_combined, \"SingleCellExperiment\")\n",
        "alevin_sce"
      ],
      "cell_type": "code",
      "execution_count": null,
      "outputs": [

      ],
      "metadata": {
        "attributes": {
          "classes": [
            "Alevin is a tool integrated with the [Salmon software](https://salmon.readthedocs.io/en/latest/salmon.html), so first we need to get Salmon. You can install Salmon using conda, but in this tutorial we will show an alternative method - downloading the pre-compiled binaries from the [releases page](https://github.com/COMBINE-lab/salmon/releases). Note that binaries are usually compiled for specific CPU architectures, such as the 64-bit (x86_64) machine release referenced below ."
          ],
          "id": ""
        }
      }
    },
    {
      "id": "cell-94",
      "source": "<p>As you can see, all the embeddings have been successfully transfered during this conversion and believe me, sce object will be more useful for you!</p>\n<p>You’ve already learned how to save and load objects in Jupyter notebook, let’s then save the SCE file:</p>\n",
      "cell_type": "markdown",
      "metadata": {
        "editable": false,
        "collapsed": false
      }
    },
    {
      "id": "cell-95",
      "source": [
        "save(alevin_sce, file = \"alevin_sce.rdata\")"
      ],
      "cell_type": "code",
      "execution_count": null,
      "outputs": [

      ],
      "metadata": {
        "attributes": {
          "classes": [
            "Alevin is a tool integrated with the [Salmon software](https://salmon.readthedocs.io/en/latest/salmon.html), so first we need to get Salmon. You can install Salmon using conda, but in this tutorial we will show an alternative method - downloading the pre-compiled binaries from the [releases page](https://github.com/COMBINE-lab/salmon/releases). Note that binaries are usually compiled for specific CPU architectures, such as the 64-bit (x86_64) machine release referenced below ."
          ],
          "id": ""
        }
      }
    },
    {
      "id": "cell-96",
      "source": "<p>The last thing that might be useful is exporting the files into your Galaxy history. To do it… guess what! Yes - <strong>switching kernels again</strong>! But this time we choose <strong>Python 3</strong> kernel and run the following command:</p>\n",
      "cell_type": "markdown",
      "metadata": {
        "editable": false,
        "collapsed": false
      }
    },
    {
      "id": "cell-97",
      "source": [
        "# that's Python now!\n",
        "put(\"alevin_sce.rdata\")"
      ],
      "cell_type": "code",
      "execution_count": null,
      "outputs": [

      ],
      "metadata": {
        "attributes": {
          "classes": [
            "Alevin is a tool integrated with the [Salmon software](https://salmon.readthedocs.io/en/latest/salmon.html), so first we need to get Salmon. You can install Salmon using conda, but in this tutorial we will show an alternative method - downloading the pre-compiled binaries from the [releases page](https://github.com/COMBINE-lab/salmon/releases). Note that binaries are usually compiled for specific CPU architectures, such as the 64-bit (x86_64) machine release referenced below ."
          ],
          "id": ""
        }
      }
    },
    {
      "id": "cell-98",
      "source": "<h1 id=\"conclusion\">Conclusion</h1>\n<p>Well done! In this tutorial we have:</p>\n<ul>\n<li>examined raw read data, annotations and necessary input files for quantification</li>\n<li>created an index in Salmon and run Alevin</li>\n<li>identified barcodes that correspond to non-empty droplets</li>\n<li>added gene and cell metadata</li>\n<li>applied the necessary conversion to pass these data to downstream processes.</li>\n</ul>\n<p>As you might now appreciate, some tasks are much quicker and easier when run in the code, but the reproducibility and automation of Galaxy workflows is a huge advantage that helps in dealing with many samples more quickly and efficiently.</p>\n",
      "cell_type": "markdown",
      "metadata": {
        "editable": false,
        "collapsed": false
      }
    },
    {
      "cell_type": "markdown",
      "id": "final-ending-cell",
      "metadata": {
        "editable": false,
        "collapsed": false
      },
      "source": [
        "# Key Points\n\n",
        "- Create a SCE object from FASTQ files, including relevant gene and cell metadata, and do it all in Jupyter Notebook!\n",
        "\n# Congratulations on successfully completing this tutorial!\n\n",
        "Please [fill out the feedback on the GTN website](https://training.galaxyproject.org/training-material/topics/single-cell/tutorials/alevin-commandline/tutorial.html#feedback) and check there for further resources!\n"
      ]
    }
  ]
}